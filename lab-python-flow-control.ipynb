{
 "cells": [
  {
   "cell_type": "markdown",
   "id": "d3bfc191-8885-42ee-b0a0-bbab867c6f9f",
   "metadata": {
    "tags": []
   },
   "source": [
    "# Lab | Flow Control"
   ]
  },
  {
   "cell_type": "markdown",
   "id": "3851fcd1-cf98-4653-9c89-e003b7ec9400",
   "metadata": {},
   "source": [
    "## Exercise: Managing Customer Orders Optimized\n",
    "\n",
    "In the last lab, you were starting an online store that sells various products. To ensure smooth operations, you developed a program that manages customer orders and inventory.\n",
    "\n",
    "You did so without using flow control. Let's go a step further and improve this code.\n",
    "\n",
    "Follow the steps below to complete the exercise:\n",
    "\n",
    "1. Look at your code from the lab data structures, and improve repeated code with loops.\n",
    "\n",
    "2. Instead of asking the user to input the name of three products that a customer wants to order, do the following:\n",
    "    \n",
    "    a. Prompt the user to enter the name of a product that a customer wants to order.\n",
    "    \n",
    "    b. Add the product name to the \"customer_orders\" set.\n",
    "    \n",
    "    c. Ask the user if they want to add another product (yes/no).\n",
    "    \n",
    "    d. Continue the loop until the user does not want to add another product.\n",
    "\n",
    "3. Instead of updating the inventory by subtracting 1 from the quantity of each product, only do it for  the products that were ordered (those in \"customer_orders\")."
   ]
  },
  {
   "cell_type": "code",
   "execution_count": null,
   "id": "7a715db5",
   "metadata": {},
   "outputs": [
    {
     "name": "stdout",
     "output_type": "stream",
     "text": [
      "an error has been detected afa not valid\n",
      "an error has been detected gfaga not valid\n",
      "['hat', 'hat', 'hat', 'hat', 'hat', 'hat', 'hat', 'hat', 'hat', 'hat', 'hat', 'hat']\n",
      "\n",
      " ```   \n",
      " Order Statistics:    \n",
      " Total Products Ordered: 12  \n",
      " Percentage of Products Ordered: 48.0% \n",
      " ```\n",
      "\n",
      " ``` inventory values prior to deduction were: \n",
      " {'t-shirt': 5, 'mug': 5, 'hat': 5, 'book': 5, 'keychain': 5} \n",
      " ```\n",
      "\n",
      " ``` inventory values after deduction are: \n",
      " {'t-shirt': 5, 'mug': 5, 'hat': -7, 'book': 5, 'keychain': 5} \n",
      " ```\n"
     ]
    }
   ],
   "source": [
    "#Create a list with the products available\n",
    "products = [\"t-shirt\", \"mug\", \"hat\", \"book\", \"keychain\"]\n",
    "#Create an empty dictionary\n",
    "inventory = {}\n",
    "#Iterate through the products and request a number from the user to update inventory dictionary\n",
    "for product in products:\n",
    "    user_input = input(f\"Please enter the number of {product} available in your inventory\")\n",
    "    quantity = int(user_input)\n",
    "    inventory[product] = quantity\n",
    "#Create a new empty set to store the customer orders\n",
    "customer_orders = set()\n",
    "#Request input from the user until they have inputed 3 items\n",
    "user_asnwer = True\n",
    "while user_asnwer == True:\n",
    "        user_order = input(f\"Please input your order here:\")\n",
    "        user_order = user_order.lower()\n",
    "        if (user_order in products):\n",
    "            customer_orders.add(user_order)\n",
    "            user_prompt = input('Do you wish to add another product? yes/no')\n",
    "            user_prompt = user_prompt.lower()\n",
    "            if (user_prompt == 'yes'):\n",
    "                user_asnwer = True\n",
    "            elif(user_prompt == 'no'):\n",
    "                user_asnwer = False                \n",
    "                break\n",
    "            else:\n",
    "                print(f'an error has been detected {user_prompt} not valid')\n",
    "                continue\n",
    "        else:\n",
    "            continue\n",
    "#See the orders\n",
    "print(customer_orders)\n",
    "#Count the orders\n",
    "total_products_ordered = len(customer_orders)\n",
    "#Add the quantity of all products to understand stock\n",
    "total_products = sum(inventory.values())\n",
    "#Calculate statistics\n",
    "percentage_ordered = (total_products_ordered/total_products)*100\n",
    "order_status = (total_products_ordered, percentage_ordered)\n",
    "#Print statistics\n",
    "print(f\"\\n ```   \\n Order Statistics:    \\n Total Products Ordered: {order_status[0]}  \\n Percentage of Products Ordered: {order_status[1]}% \\n ```\")\n",
    "#Iterate through the dictionary to see if any of the requests match the stock and deduce 1 from the stock of each product ordered\n",
    "print(f\"\\n ``` inventory values prior to deduction were: \\n {inventory} \\n ```\")\n",
    "for product in customer_orders:\n",
    "    inventory[product] -= 1\n",
    "#print the final inventory\n",
    "print(f\"\\n ``` inventory values after deduction are: \\n {inventory} \\n ```\")"
   ]
  }
 ],
 "metadata": {
  "kernelspec": {
   "display_name": "base",
   "language": "python",
   "name": "python3"
  },
  "language_info": {
   "codemirror_mode": {
    "name": "ipython",
    "version": 3
   },
   "file_extension": ".py",
   "mimetype": "text/x-python",
   "name": "python",
   "nbconvert_exporter": "python",
   "pygments_lexer": "ipython3",
   "version": "3.12.7"
  }
 },
 "nbformat": 4,
 "nbformat_minor": 5
}
